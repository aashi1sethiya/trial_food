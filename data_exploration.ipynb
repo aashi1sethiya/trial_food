{
 "cells": [
  {
   "cell_type": "code",
   "execution_count": 3,
   "metadata": {},
   "outputs": [],
   "source": [
    "import json\n",
    "import pandas as pd\n",
    "import numpy as np\n",
    "import matplotlib.pyplot as plt\n",
    "from util import utils\n",
    "import config"
   ]
  },
  {
   "cell_type": "markdown",
   "metadata": {},
   "source": [
    "# Load data"
   ]
  },
  {
   "cell_type": "code",
   "execution_count": 2,
   "metadata": {},
   "outputs": [
    {
     "data": {
      "text/plain": [
       "<module 'config' from 'c:\\\\Users\\\\matth\\\\OneDrive - University College London\\\\Industry\\\\Wynn\\\\Project\\\\FLW\\\\Code\\\\ghg_accounting\\\\dashboard\\\\food_label_website\\\\config.py'>"
      ]
     },
     "execution_count": 2,
     "metadata": {},
     "output_type": "execute_result"
    }
   ],
   "source": [
    "import importlib\n",
    "importlib.reload(config)"
   ]
  },
  {
   "cell_type": "code",
   "execution_count": 4,
   "metadata": {},
   "outputs": [],
   "source": [
    "def load_json(path_to_file):\n",
    "    with open(path_to_file, 'r', encoding=\"utf-8\") as json_file:\n",
    "        data = json.load(json_file)\n",
    "    return data"
   ]
  },
  {
   "cell_type": "code",
   "execution_count": 5,
   "metadata": {},
   "outputs": [],
   "source": [
    "data = load_json('data/menu_edr_dishes_only.json')"
   ]
  },
  {
   "cell_type": "code",
   "execution_count": 6,
   "metadata": {},
   "outputs": [
    {
     "data": {
      "text/plain": [
       "Index(['MenuItemName', 'MenuItemType', 'RawIngredientsEng',\n",
       "       'RawIngredientsEngSimple', 'RawIngredientsType',\n",
       "       'RawIngredientsChinese', 'Amount', 'AmountUnit', 'AmountInGrams',\n",
       "       'AmountServings', 'Method', 'MethodChinese', 'Region', 'Destination',\n",
       "       'CarbonFootprintIngredients', 'CarbonLabelMenuItem',\n",
       "       'CarbonLabelMenuItemPerServing', 'CarbonLabelMenuItemPer100g',\n",
       "       'CarbonLabelMenuItemPerKg', 'CarbonLabelMenuItemTrafficLight',\n",
       "       'LCA.Agricultural', 'LCA.Processing', 'LCA.Distribution',\n",
       "       'LCA.Consumption', 'LCA.Management', 'Nutrition.Calories',\n",
       "       'Nutrition.Carbohydrate', 'Nutrition.Fat', 'Nutrition.Protein',\n",
       "       'NutritionLabelMenuItem.Calories',\n",
       "       'NutritionLabelMenuItem.Carbohydrate', 'NutritionLabelMenuItem.Fat',\n",
       "       'NutritionLabelMenuItem.Protein',\n",
       "       'NutritionLabelMenuItemPerServing.Calories',\n",
       "       'NutritionLabelMenuItemPerServing.Carbohydrate',\n",
       "       'NutritionLabelMenuItemPerServing.Fat',\n",
       "       'NutritionLabelMenuItemPerServing.Protein',\n",
       "       'NutritionLabelMenuItemPerServingPercentRDI.Calories',\n",
       "       'NutritionLabelMenuItemPerServingPercentRDI.Carbohydrate',\n",
       "       'NutritionLabelMenuItemPerServingPercentRDI.Fat',\n",
       "       'NutritionLabelMenuItemPerServingPercentRDI.Protein',\n",
       "       'NutritionLabelMenuItemPer100g.Calories',\n",
       "       'NutritionLabelMenuItemPer100g.Carbohydrate',\n",
       "       'NutritionLabelMenuItemPer100g.Fat',\n",
       "       'NutritionLabelMenuItemPer100g.Protein'],\n",
       "      dtype='object')"
      ]
     },
     "execution_count": 6,
     "metadata": {},
     "output_type": "execute_result"
    }
   ],
   "source": [
    "df = pd.json_normalize(data)\n",
    "df.columns"
   ]
  },
  {
   "cell_type": "markdown",
   "metadata": {},
   "source": [
    "# Select dishes from database based on today's menu\n",
    "\n",
    "* Today's dishes are listed in `config.py`. \n",
    "* Make sure the names are all lower case and match exactly to the database names. "
   ]
  },
  {
   "cell_type": "code",
   "execution_count": 7,
   "metadata": {},
   "outputs": [],
   "source": [
    "# All Dish names to lowercase\n",
    "df['MenuItemName'] = df['MenuItemName'].apply(lambda x: x.lower())\n"
   ]
  },
  {
   "cell_type": "code",
   "execution_count": 8,
   "metadata": {},
   "outputs": [
    {
     "data": {
      "text/html": [
       "<div>\n",
       "<style scoped>\n",
       "    .dataframe tbody tr th:only-of-type {\n",
       "        vertical-align: middle;\n",
       "    }\n",
       "\n",
       "    .dataframe tbody tr th {\n",
       "        vertical-align: top;\n",
       "    }\n",
       "\n",
       "    .dataframe thead th {\n",
       "        text-align: right;\n",
       "    }\n",
       "</style>\n",
       "<table border=\"1\" class=\"dataframe\">\n",
       "  <thead>\n",
       "    <tr style=\"text-align: right;\">\n",
       "      <th></th>\n",
       "      <th>MenuItemName</th>\n",
       "      <th>MenuItemType</th>\n",
       "      <th>RawIngredientsEng</th>\n",
       "      <th>RawIngredientsEngSimple</th>\n",
       "      <th>RawIngredientsType</th>\n",
       "      <th>RawIngredientsChinese</th>\n",
       "      <th>Amount</th>\n",
       "      <th>AmountUnit</th>\n",
       "      <th>AmountInGrams</th>\n",
       "      <th>AmountServings</th>\n",
       "      <th>...</th>\n",
       "      <th>NutritionLabelMenuItemPerServing.Fat</th>\n",
       "      <th>NutritionLabelMenuItemPerServing.Protein</th>\n",
       "      <th>NutritionLabelMenuItemPerServingPercentRDI.Calories</th>\n",
       "      <th>NutritionLabelMenuItemPerServingPercentRDI.Carbohydrate</th>\n",
       "      <th>NutritionLabelMenuItemPerServingPercentRDI.Fat</th>\n",
       "      <th>NutritionLabelMenuItemPerServingPercentRDI.Protein</th>\n",
       "      <th>NutritionLabelMenuItemPer100g.Calories</th>\n",
       "      <th>NutritionLabelMenuItemPer100g.Carbohydrate</th>\n",
       "      <th>NutritionLabelMenuItemPer100g.Fat</th>\n",
       "      <th>NutritionLabelMenuItemPer100g.Protein</th>\n",
       "    </tr>\n",
       "  </thead>\n",
       "  <tbody>\n",
       "    <tr>\n",
       "      <th>187</th>\n",
       "      <td>caldo verde</td>\n",
       "      <td>Soup-湯類</td>\n",
       "      <td>[shredded cabbage, kg kale, fresh shredded kg,...</td>\n",
       "      <td>[kale, onion, garlic, milk full, cream, potato...</td>\n",
       "      <td>[VEGETABLE, VEGETABLE, VEGETABLE, DAIRY, DAIRY...</td>\n",
       "      <td>[菜絲, 公斤 KALE, FRESH SHREDDED KG, 美國去皮洋蔥 5公斤/包 ...</td>\n",
       "      <td>[7, 20, 2, 1, 2, 60, 4]</td>\n",
       "      <td>[kg, kg, kg, case, case, kg, kg]</td>\n",
       "      <td>[7000, 20000, 2000, 12000.0, 12000.0, 60000, 4...</td>\n",
       "      <td>100 ltr</td>\n",
       "      <td>...</td>\n",
       "      <td>14.567000</td>\n",
       "      <td>7.409500</td>\n",
       "      <td>14.900150</td>\n",
       "      <td>13.105091</td>\n",
       "      <td>18.675641</td>\n",
       "      <td>14.81900</td>\n",
       "      <td>101.881368</td>\n",
       "      <td>12.321026</td>\n",
       "      <td>4.980171</td>\n",
       "      <td>2.533162</td>\n",
       "    </tr>\n",
       "    <tr>\n",
       "      <th>273</th>\n",
       "      <td>seafood casserole</td>\n",
       "      <td>Seafood-海鲜類</td>\n",
       "      <td>[ww, por mariana white 75cl/cs6, flour, wheat ...</td>\n",
       "      <td>[wine white, flour wheat, cheese parmesan, but...</td>\n",
       "      <td>[ALCOHOL, WHEAT, DAIRY, DAIRY, AQUATIC, AQUATI...</td>\n",
       "      <td>[WW, POR MARIANA WHITE 75CL/CS6, 美玫麵粉 22.7公斤/包...</td>\n",
       "      <td>[3, 4, 0.25, 6, 25, 12, 12, 15, 25, 10, 0.5]</td>\n",
       "      <td>[btl, kg, case, kg, kg, kg, kg, kg, kg, kg, case]</td>\n",
       "      <td>[2250.0, 4000, 15.0, 6000, 25000, 12000, 12000...</td>\n",
       "      <td>100 kg</td>\n",
       "      <td>...</td>\n",
       "      <td>6.186616</td>\n",
       "      <td>11.858675</td>\n",
       "      <td>6.993831</td>\n",
       "      <td>2.769334</td>\n",
       "      <td>7.931558</td>\n",
       "      <td>23.71735</td>\n",
       "      <td>125.203971</td>\n",
       "      <td>6.816806</td>\n",
       "      <td>5.537658</td>\n",
       "      <td>10.614734</td>\n",
       "    </tr>\n",
       "  </tbody>\n",
       "</table>\n",
       "<p>2 rows × 45 columns</p>\n",
       "</div>"
      ],
      "text/plain": [
       "          MenuItemName MenuItemType  \\\n",
       "187        caldo verde      Soup-湯類   \n",
       "273  seafood casserole  Seafood-海鲜類   \n",
       "\n",
       "                                     RawIngredientsEng  \\\n",
       "187  [shredded cabbage, kg kale, fresh shredded kg,...   \n",
       "273  [ww, por mariana white 75cl/cs6, flour, wheat ...   \n",
       "\n",
       "                               RawIngredientsEngSimple  \\\n",
       "187  [kale, onion, garlic, milk full, cream, potato...   \n",
       "273  [wine white, flour wheat, cheese parmesan, but...   \n",
       "\n",
       "                                    RawIngredientsType  \\\n",
       "187  [VEGETABLE, VEGETABLE, VEGETABLE, DAIRY, DAIRY...   \n",
       "273  [ALCOHOL, WHEAT, DAIRY, DAIRY, AQUATIC, AQUATI...   \n",
       "\n",
       "                                 RawIngredientsChinese  \\\n",
       "187  [菜絲, 公斤 KALE, FRESH SHREDDED KG, 美國去皮洋蔥 5公斤/包 ...   \n",
       "273  [WW, POR MARIANA WHITE 75CL/CS6, 美玫麵粉 22.7公斤/包...   \n",
       "\n",
       "                                           Amount  \\\n",
       "187                       [7, 20, 2, 1, 2, 60, 4]   \n",
       "273  [3, 4, 0.25, 6, 25, 12, 12, 15, 25, 10, 0.5]   \n",
       "\n",
       "                                            AmountUnit  \\\n",
       "187                   [kg, kg, kg, case, case, kg, kg]   \n",
       "273  [btl, kg, case, kg, kg, kg, kg, kg, kg, kg, case]   \n",
       "\n",
       "                                         AmountInGrams AmountServings  ...  \\\n",
       "187  [7000, 20000, 2000, 12000.0, 12000.0, 60000, 4...        100 ltr  ...   \n",
       "273  [2250.0, 4000, 15.0, 6000, 25000, 12000, 12000...         100 kg  ...   \n",
       "\n",
       "    NutritionLabelMenuItemPerServing.Fat  \\\n",
       "187                            14.567000   \n",
       "273                             6.186616   \n",
       "\n",
       "    NutritionLabelMenuItemPerServing.Protein  \\\n",
       "187                                 7.409500   \n",
       "273                                11.858675   \n",
       "\n",
       "    NutritionLabelMenuItemPerServingPercentRDI.Calories  \\\n",
       "187                                          14.900150    \n",
       "273                                           6.993831    \n",
       "\n",
       "    NutritionLabelMenuItemPerServingPercentRDI.Carbohydrate  \\\n",
       "187                                          13.105091        \n",
       "273                                           2.769334        \n",
       "\n",
       "    NutritionLabelMenuItemPerServingPercentRDI.Fat  \\\n",
       "187                                      18.675641   \n",
       "273                                       7.931558   \n",
       "\n",
       "     NutritionLabelMenuItemPerServingPercentRDI.Protein  \\\n",
       "187                                           14.81900    \n",
       "273                                           23.71735    \n",
       "\n",
       "     NutritionLabelMenuItemPer100g.Calories  \\\n",
       "187                              101.881368   \n",
       "273                              125.203971   \n",
       "\n",
       "     NutritionLabelMenuItemPer100g.Carbohydrate  \\\n",
       "187                                   12.321026   \n",
       "273                                    6.816806   \n",
       "\n",
       "     NutritionLabelMenuItemPer100g.Fat NutritionLabelMenuItemPer100g.Protein  \n",
       "187                           4.980171                              2.533162  \n",
       "273                           5.537658                             10.614734  \n",
       "\n",
       "[2 rows x 45 columns]"
      ]
     },
     "execution_count": 8,
     "metadata": {},
     "output_type": "execute_result"
    }
   ],
   "source": [
    "df[df.MenuItemName.isin(config.MENU_INTERNATIONAL)]"
   ]
  },
  {
   "cell_type": "code",
   "execution_count": 9,
   "metadata": {},
   "outputs": [
    {
     "data": {
      "text/html": [
       "<div>\n",
       "<style scoped>\n",
       "    .dataframe tbody tr th:only-of-type {\n",
       "        vertical-align: middle;\n",
       "    }\n",
       "\n",
       "    .dataframe tbody tr th {\n",
       "        vertical-align: top;\n",
       "    }\n",
       "\n",
       "    .dataframe thead th {\n",
       "        text-align: right;\n",
       "    }\n",
       "</style>\n",
       "<table border=\"1\" class=\"dataframe\">\n",
       "  <thead>\n",
       "    <tr style=\"text-align: right;\">\n",
       "      <th></th>\n",
       "      <th>MenuItemName</th>\n",
       "      <th>MenuItemType</th>\n",
       "      <th>RawIngredientsEng</th>\n",
       "      <th>RawIngredientsEngSimple</th>\n",
       "      <th>RawIngredientsType</th>\n",
       "      <th>RawIngredientsChinese</th>\n",
       "      <th>Amount</th>\n",
       "      <th>AmountUnit</th>\n",
       "      <th>AmountInGrams</th>\n",
       "      <th>AmountServings</th>\n",
       "      <th>...</th>\n",
       "      <th>NutritionLabelMenuItemPerServing.Fat</th>\n",
       "      <th>NutritionLabelMenuItemPerServing.Protein</th>\n",
       "      <th>NutritionLabelMenuItemPerServingPercentRDI.Calories</th>\n",
       "      <th>NutritionLabelMenuItemPerServingPercentRDI.Carbohydrate</th>\n",
       "      <th>NutritionLabelMenuItemPerServingPercentRDI.Fat</th>\n",
       "      <th>NutritionLabelMenuItemPerServingPercentRDI.Protein</th>\n",
       "      <th>NutritionLabelMenuItemPer100g.Calories</th>\n",
       "      <th>NutritionLabelMenuItemPer100g.Carbohydrate</th>\n",
       "      <th>NutritionLabelMenuItemPer100g.Fat</th>\n",
       "      <th>NutritionLabelMenuItemPer100g.Protein</th>\n",
       "    </tr>\n",
       "  </thead>\n",
       "  <tbody>\n",
       "    <tr>\n",
       "      <th>82</th>\n",
       "      <td>南乳粉葛燜鴨</td>\n",
       "      <td>Poultry-家禽類</td>\n",
       "      <td>[chop duck, kudzu, ginger, garlic meat, south ...</td>\n",
       "      <td>[duck, arrowroot, ginger, garlic, nam yu sauce...</td>\n",
       "      <td>[POULTRY, VEGETABLE, VEGETABLE, VEGETABLE, SEA...</td>\n",
       "      <td>[斬鴨, 粉葛, 薑, 蒜肉, 南乳, 葱度, 順嘜食油, 調味料]</td>\n",
       "      <td>[100000, 50000, 2000, 2000, 6400, 1000, 2000, ...</td>\n",
       "      <td>[gram, gram, gram, gram, gram, gram, gram, gram]</td>\n",
       "      <td>[100000, 50000, 2000, 2000, 6400, 1000, 2000, ...</td>\n",
       "      <td>50 盆/1000 人份量</td>\n",
       "      <td>...</td>\n",
       "      <td>12.66270</td>\n",
       "      <td>29.61978</td>\n",
       "      <td>13.3762</td>\n",
       "      <td>3.020335</td>\n",
       "      <td>16.234231</td>\n",
       "      <td>59.23956</td>\n",
       "      <td>161.743652</td>\n",
       "      <td>5.021717</td>\n",
       "      <td>7.655804</td>\n",
       "      <td>17.907969</td>\n",
       "    </tr>\n",
       "    <tr>\n",
       "      <th>106</th>\n",
       "      <td>火腿雜菌燜伊麵</td>\n",
       "      <td>Rice-Nooldes-飯及粉類</td>\n",
       "      <td>[yimian, xiuzhen mushroom, chicken spleen mush...</td>\n",
       "      <td>[noodle, mushroom, mushroom, mushroom, ham, gr...</td>\n",
       "      <td>[WHEAT, FUNGUS, FUNGUS, FUNGUS, PORK, VEGETABL...</td>\n",
       "      <td>[伊麵, 秀珍菇, 雞脾菇, 罐頭鲜草菇片, 火腿, 葱花, 蠔油, 順嘜食油, 調味料]</td>\n",
       "      <td>[200, 8400, 8400, 17000, 13500, 1000, 2000, 20...</td>\n",
       "      <td>[Each, gram, gram, gram, gram, gram, gram, gra...</td>\n",
       "      <td>[45400, 8400, 8400, 17000, 13500, 1000, 2000, ...</td>\n",
       "      <td>50 盆/1000 人份量</td>\n",
       "      <td>...</td>\n",
       "      <td>4.45086</td>\n",
       "      <td>6.60997</td>\n",
       "      <td>11.1786</td>\n",
       "      <td>13.851673</td>\n",
       "      <td>5.706231</td>\n",
       "      <td>13.21994</td>\n",
       "      <td>224.244734</td>\n",
       "      <td>38.206720</td>\n",
       "      <td>4.464253</td>\n",
       "      <td>6.629860</td>\n",
       "    </tr>\n",
       "  </tbody>\n",
       "</table>\n",
       "<p>2 rows × 45 columns</p>\n",
       "</div>"
      ],
      "text/plain": [
       "    MenuItemName       MenuItemType  \\\n",
       "82        南乳粉葛燜鴨        Poultry-家禽類   \n",
       "106      火腿雜菌燜伊麵  Rice-Nooldes-飯及粉類   \n",
       "\n",
       "                                     RawIngredientsEng  \\\n",
       "82   [chop duck, kudzu, ginger, garlic meat, south ...   \n",
       "106  [yimian, xiuzhen mushroom, chicken spleen mush...   \n",
       "\n",
       "                               RawIngredientsEngSimple  \\\n",
       "82   [duck, arrowroot, ginger, garlic, nam yu sauce...   \n",
       "106  [noodle, mushroom, mushroom, mushroom, ham, gr...   \n",
       "\n",
       "                                    RawIngredientsType  \\\n",
       "82   [POULTRY, VEGETABLE, VEGETABLE, VEGETABLE, SEA...   \n",
       "106  [WHEAT, FUNGUS, FUNGUS, FUNGUS, PORK, VEGETABL...   \n",
       "\n",
       "                             RawIngredientsChinese  \\\n",
       "82              [斬鴨, 粉葛, 薑, 蒜肉, 南乳, 葱度, 順嘜食油, 調味料]   \n",
       "106  [伊麵, 秀珍菇, 雞脾菇, 罐頭鲜草菇片, 火腿, 葱花, 蠔油, 順嘜食油, 調味料]   \n",
       "\n",
       "                                                Amount  \\\n",
       "82   [100000, 50000, 2000, 2000, 6400, 1000, 2000, ...   \n",
       "106  [200, 8400, 8400, 17000, 13500, 1000, 2000, 20...   \n",
       "\n",
       "                                            AmountUnit  \\\n",
       "82    [gram, gram, gram, gram, gram, gram, gram, gram]   \n",
       "106  [Each, gram, gram, gram, gram, gram, gram, gra...   \n",
       "\n",
       "                                         AmountInGrams AmountServings  ...  \\\n",
       "82   [100000, 50000, 2000, 2000, 6400, 1000, 2000, ...  50 盆/1000 人份量  ...   \n",
       "106  [45400, 8400, 8400, 17000, 13500, 1000, 2000, ...  50 盆/1000 人份量  ...   \n",
       "\n",
       "    NutritionLabelMenuItemPerServing.Fat  \\\n",
       "82                              12.66270   \n",
       "106                              4.45086   \n",
       "\n",
       "    NutritionLabelMenuItemPerServing.Protein  \\\n",
       "82                                  29.61978   \n",
       "106                                  6.60997   \n",
       "\n",
       "    NutritionLabelMenuItemPerServingPercentRDI.Calories  \\\n",
       "82                                             13.3762    \n",
       "106                                            11.1786    \n",
       "\n",
       "    NutritionLabelMenuItemPerServingPercentRDI.Carbohydrate  \\\n",
       "82                                            3.020335        \n",
       "106                                          13.851673        \n",
       "\n",
       "    NutritionLabelMenuItemPerServingPercentRDI.Fat  \\\n",
       "82                                       16.234231   \n",
       "106                                       5.706231   \n",
       "\n",
       "     NutritionLabelMenuItemPerServingPercentRDI.Protein  \\\n",
       "82                                            59.23956    \n",
       "106                                           13.21994    \n",
       "\n",
       "     NutritionLabelMenuItemPer100g.Calories  \\\n",
       "82                               161.743652   \n",
       "106                              224.244734   \n",
       "\n",
       "     NutritionLabelMenuItemPer100g.Carbohydrate  \\\n",
       "82                                     5.021717   \n",
       "106                                   38.206720   \n",
       "\n",
       "     NutritionLabelMenuItemPer100g.Fat NutritionLabelMenuItemPer100g.Protein  \n",
       "82                            7.655804                             17.907969  \n",
       "106                           4.464253                              6.629860  \n",
       "\n",
       "[2 rows x 45 columns]"
      ]
     },
     "execution_count": 9,
     "metadata": {},
     "output_type": "execute_result"
    }
   ],
   "source": [
    "df[df.MenuItemName.isin(config.MENU_ASIAN)]"
   ]
  },
  {
   "cell_type": "markdown",
   "metadata": {},
   "source": [
    "# Donut chart for carbon distribution"
   ]
  },
  {
   "cell_type": "code",
   "execution_count": 5,
   "metadata": {},
   "outputs": [
    {
     "data": {
      "text/plain": [
       "[('beef sirloin', '牛腩'),\n",
       " ('carrot', '羅蔔角'),\n",
       " ('celery', '唐芹'),\n",
       " ('ginger', '薑片'),\n",
       " ('cumin', '孜然粉'),\n",
       " ('oil', '順嘜食油'),\n",
       " ('seasoning', '調味料')]"
      ]
     },
     "execution_count": 5,
     "metadata": {},
     "output_type": "execute_result"
    }
   ],
   "source": [
    "list(zip(df.query(\"MenuItemName == '香辣孜然燜牛腩'\")['RawIngredientsEngSimple'].values[0], df.query(\"MenuItemName == '香辣孜然燜牛腩'\")['RawIngredientsChinese'].values[0]))\n",
    "#plt.pie(df.query(\"MenuItemName == '香辣孜然燜牛腩'\")['CarbonFootprint'].values[0])"
   ]
  },
  {
   "cell_type": "code",
   "execution_count": 48,
   "metadata": {},
   "outputs": [
    {
     "data": {
      "application/vnd.plotly.v1+json": {
       "config": {
        "plotlyServerURL": "https://plot.ly"
       },
       "data": [
        {
         "hole": 0.5,
         "labels": [
          [
           "beef sirloin",
           "牛腩"
          ],
          [
           "carrot",
           "羅蔔角"
          ],
          [
           "celery",
           "唐芹"
          ],
          [
           "ginger",
           "薑片"
          ],
          [
           "cumin",
           "孜然粉"
          ],
          [
           "oil",
           "順嘜食油"
          ],
          [
           "seasoning",
           "調味料"
          ]
         ],
         "type": "pie",
         "values": [
          4500,
          2500,
          1053,
          500
         ]
        }
       ],
       "layout": {
        "template": {
         "data": {
          "bar": [
           {
            "error_x": {
             "color": "#2a3f5f"
            },
            "error_y": {
             "color": "#2a3f5f"
            },
            "marker": {
             "line": {
              "color": "#E5ECF6",
              "width": 0.5
             }
            },
            "type": "bar"
           }
          ],
          "barpolar": [
           {
            "marker": {
             "line": {
              "color": "#E5ECF6",
              "width": 0.5
             }
            },
            "type": "barpolar"
           }
          ],
          "carpet": [
           {
            "aaxis": {
             "endlinecolor": "#2a3f5f",
             "gridcolor": "white",
             "linecolor": "white",
             "minorgridcolor": "white",
             "startlinecolor": "#2a3f5f"
            },
            "baxis": {
             "endlinecolor": "#2a3f5f",
             "gridcolor": "white",
             "linecolor": "white",
             "minorgridcolor": "white",
             "startlinecolor": "#2a3f5f"
            },
            "type": "carpet"
           }
          ],
          "choropleth": [
           {
            "colorbar": {
             "outlinewidth": 0,
             "ticks": ""
            },
            "type": "choropleth"
           }
          ],
          "contour": [
           {
            "colorbar": {
             "outlinewidth": 0,
             "ticks": ""
            },
            "colorscale": [
             [
              0,
              "#0d0887"
             ],
             [
              0.1111111111111111,
              "#46039f"
             ],
             [
              0.2222222222222222,
              "#7201a8"
             ],
             [
              0.3333333333333333,
              "#9c179e"
             ],
             [
              0.4444444444444444,
              "#bd3786"
             ],
             [
              0.5555555555555556,
              "#d8576b"
             ],
             [
              0.6666666666666666,
              "#ed7953"
             ],
             [
              0.7777777777777778,
              "#fb9f3a"
             ],
             [
              0.8888888888888888,
              "#fdca26"
             ],
             [
              1,
              "#f0f921"
             ]
            ],
            "type": "contour"
           }
          ],
          "contourcarpet": [
           {
            "colorbar": {
             "outlinewidth": 0,
             "ticks": ""
            },
            "type": "contourcarpet"
           }
          ],
          "heatmap": [
           {
            "colorbar": {
             "outlinewidth": 0,
             "ticks": ""
            },
            "colorscale": [
             [
              0,
              "#0d0887"
             ],
             [
              0.1111111111111111,
              "#46039f"
             ],
             [
              0.2222222222222222,
              "#7201a8"
             ],
             [
              0.3333333333333333,
              "#9c179e"
             ],
             [
              0.4444444444444444,
              "#bd3786"
             ],
             [
              0.5555555555555556,
              "#d8576b"
             ],
             [
              0.6666666666666666,
              "#ed7953"
             ],
             [
              0.7777777777777778,
              "#fb9f3a"
             ],
             [
              0.8888888888888888,
              "#fdca26"
             ],
             [
              1,
              "#f0f921"
             ]
            ],
            "type": "heatmap"
           }
          ],
          "heatmapgl": [
           {
            "colorbar": {
             "outlinewidth": 0,
             "ticks": ""
            },
            "colorscale": [
             [
              0,
              "#0d0887"
             ],
             [
              0.1111111111111111,
              "#46039f"
             ],
             [
              0.2222222222222222,
              "#7201a8"
             ],
             [
              0.3333333333333333,
              "#9c179e"
             ],
             [
              0.4444444444444444,
              "#bd3786"
             ],
             [
              0.5555555555555556,
              "#d8576b"
             ],
             [
              0.6666666666666666,
              "#ed7953"
             ],
             [
              0.7777777777777778,
              "#fb9f3a"
             ],
             [
              0.8888888888888888,
              "#fdca26"
             ],
             [
              1,
              "#f0f921"
             ]
            ],
            "type": "heatmapgl"
           }
          ],
          "histogram": [
           {
            "marker": {
             "colorbar": {
              "outlinewidth": 0,
              "ticks": ""
             }
            },
            "type": "histogram"
           }
          ],
          "histogram2d": [
           {
            "colorbar": {
             "outlinewidth": 0,
             "ticks": ""
            },
            "colorscale": [
             [
              0,
              "#0d0887"
             ],
             [
              0.1111111111111111,
              "#46039f"
             ],
             [
              0.2222222222222222,
              "#7201a8"
             ],
             [
              0.3333333333333333,
              "#9c179e"
             ],
             [
              0.4444444444444444,
              "#bd3786"
             ],
             [
              0.5555555555555556,
              "#d8576b"
             ],
             [
              0.6666666666666666,
              "#ed7953"
             ],
             [
              0.7777777777777778,
              "#fb9f3a"
             ],
             [
              0.8888888888888888,
              "#fdca26"
             ],
             [
              1,
              "#f0f921"
             ]
            ],
            "type": "histogram2d"
           }
          ],
          "histogram2dcontour": [
           {
            "colorbar": {
             "outlinewidth": 0,
             "ticks": ""
            },
            "colorscale": [
             [
              0,
              "#0d0887"
             ],
             [
              0.1111111111111111,
              "#46039f"
             ],
             [
              0.2222222222222222,
              "#7201a8"
             ],
             [
              0.3333333333333333,
              "#9c179e"
             ],
             [
              0.4444444444444444,
              "#bd3786"
             ],
             [
              0.5555555555555556,
              "#d8576b"
             ],
             [
              0.6666666666666666,
              "#ed7953"
             ],
             [
              0.7777777777777778,
              "#fb9f3a"
             ],
             [
              0.8888888888888888,
              "#fdca26"
             ],
             [
              1,
              "#f0f921"
             ]
            ],
            "type": "histogram2dcontour"
           }
          ],
          "mesh3d": [
           {
            "colorbar": {
             "outlinewidth": 0,
             "ticks": ""
            },
            "type": "mesh3d"
           }
          ],
          "parcoords": [
           {
            "line": {
             "colorbar": {
              "outlinewidth": 0,
              "ticks": ""
             }
            },
            "type": "parcoords"
           }
          ],
          "pie": [
           {
            "automargin": true,
            "type": "pie"
           }
          ],
          "scatter": [
           {
            "marker": {
             "colorbar": {
              "outlinewidth": 0,
              "ticks": ""
             }
            },
            "type": "scatter"
           }
          ],
          "scatter3d": [
           {
            "line": {
             "colorbar": {
              "outlinewidth": 0,
              "ticks": ""
             }
            },
            "marker": {
             "colorbar": {
              "outlinewidth": 0,
              "ticks": ""
             }
            },
            "type": "scatter3d"
           }
          ],
          "scattercarpet": [
           {
            "marker": {
             "colorbar": {
              "outlinewidth": 0,
              "ticks": ""
             }
            },
            "type": "scattercarpet"
           }
          ],
          "scattergeo": [
           {
            "marker": {
             "colorbar": {
              "outlinewidth": 0,
              "ticks": ""
             }
            },
            "type": "scattergeo"
           }
          ],
          "scattergl": [
           {
            "marker": {
             "colorbar": {
              "outlinewidth": 0,
              "ticks": ""
             }
            },
            "type": "scattergl"
           }
          ],
          "scattermapbox": [
           {
            "marker": {
             "colorbar": {
              "outlinewidth": 0,
              "ticks": ""
             }
            },
            "type": "scattermapbox"
           }
          ],
          "scatterpolar": [
           {
            "marker": {
             "colorbar": {
              "outlinewidth": 0,
              "ticks": ""
             }
            },
            "type": "scatterpolar"
           }
          ],
          "scatterpolargl": [
           {
            "marker": {
             "colorbar": {
              "outlinewidth": 0,
              "ticks": ""
             }
            },
            "type": "scatterpolargl"
           }
          ],
          "scatterternary": [
           {
            "marker": {
             "colorbar": {
              "outlinewidth": 0,
              "ticks": ""
             }
            },
            "type": "scatterternary"
           }
          ],
          "surface": [
           {
            "colorbar": {
             "outlinewidth": 0,
             "ticks": ""
            },
            "colorscale": [
             [
              0,
              "#0d0887"
             ],
             [
              0.1111111111111111,
              "#46039f"
             ],
             [
              0.2222222222222222,
              "#7201a8"
             ],
             [
              0.3333333333333333,
              "#9c179e"
             ],
             [
              0.4444444444444444,
              "#bd3786"
             ],
             [
              0.5555555555555556,
              "#d8576b"
             ],
             [
              0.6666666666666666,
              "#ed7953"
             ],
             [
              0.7777777777777778,
              "#fb9f3a"
             ],
             [
              0.8888888888888888,
              "#fdca26"
             ],
             [
              1,
              "#f0f921"
             ]
            ],
            "type": "surface"
           }
          ],
          "table": [
           {
            "cells": {
             "fill": {
              "color": "#EBF0F8"
             },
             "line": {
              "color": "white"
             }
            },
            "header": {
             "fill": {
              "color": "#C8D4E3"
             },
             "line": {
              "color": "white"
             }
            },
            "type": "table"
           }
          ]
         },
         "layout": {
          "annotationdefaults": {
           "arrowcolor": "#2a3f5f",
           "arrowhead": 0,
           "arrowwidth": 1
          },
          "autotypenumbers": "strict",
          "coloraxis": {
           "colorbar": {
            "outlinewidth": 0,
            "ticks": ""
           }
          },
          "colorscale": {
           "diverging": [
            [
             0,
             "#8e0152"
            ],
            [
             0.1,
             "#c51b7d"
            ],
            [
             0.2,
             "#de77ae"
            ],
            [
             0.3,
             "#f1b6da"
            ],
            [
             0.4,
             "#fde0ef"
            ],
            [
             0.5,
             "#f7f7f7"
            ],
            [
             0.6,
             "#e6f5d0"
            ],
            [
             0.7,
             "#b8e186"
            ],
            [
             0.8,
             "#7fbc41"
            ],
            [
             0.9,
             "#4d9221"
            ],
            [
             1,
             "#276419"
            ]
           ],
           "sequential": [
            [
             0,
             "#0d0887"
            ],
            [
             0.1111111111111111,
             "#46039f"
            ],
            [
             0.2222222222222222,
             "#7201a8"
            ],
            [
             0.3333333333333333,
             "#9c179e"
            ],
            [
             0.4444444444444444,
             "#bd3786"
            ],
            [
             0.5555555555555556,
             "#d8576b"
            ],
            [
             0.6666666666666666,
             "#ed7953"
            ],
            [
             0.7777777777777778,
             "#fb9f3a"
            ],
            [
             0.8888888888888888,
             "#fdca26"
            ],
            [
             1,
             "#f0f921"
            ]
           ],
           "sequentialminus": [
            [
             0,
             "#0d0887"
            ],
            [
             0.1111111111111111,
             "#46039f"
            ],
            [
             0.2222222222222222,
             "#7201a8"
            ],
            [
             0.3333333333333333,
             "#9c179e"
            ],
            [
             0.4444444444444444,
             "#bd3786"
            ],
            [
             0.5555555555555556,
             "#d8576b"
            ],
            [
             0.6666666666666666,
             "#ed7953"
            ],
            [
             0.7777777777777778,
             "#fb9f3a"
            ],
            [
             0.8888888888888888,
             "#fdca26"
            ],
            [
             1,
             "#f0f921"
            ]
           ]
          },
          "colorway": [
           "#636efa",
           "#EF553B",
           "#00cc96",
           "#ab63fa",
           "#FFA15A",
           "#19d3f3",
           "#FF6692",
           "#B6E880",
           "#FF97FF",
           "#FECB52"
          ],
          "font": {
           "color": "#2a3f5f"
          },
          "geo": {
           "bgcolor": "white",
           "lakecolor": "white",
           "landcolor": "#E5ECF6",
           "showlakes": true,
           "showland": true,
           "subunitcolor": "white"
          },
          "hoverlabel": {
           "align": "left"
          },
          "hovermode": "closest",
          "mapbox": {
           "style": "light"
          },
          "paper_bgcolor": "white",
          "plot_bgcolor": "#E5ECF6",
          "polar": {
           "angularaxis": {
            "gridcolor": "white",
            "linecolor": "white",
            "ticks": ""
           },
           "bgcolor": "#E5ECF6",
           "radialaxis": {
            "gridcolor": "white",
            "linecolor": "white",
            "ticks": ""
           }
          },
          "scene": {
           "xaxis": {
            "backgroundcolor": "#E5ECF6",
            "gridcolor": "white",
            "gridwidth": 2,
            "linecolor": "white",
            "showbackground": true,
            "ticks": "",
            "zerolinecolor": "white"
           },
           "yaxis": {
            "backgroundcolor": "#E5ECF6",
            "gridcolor": "white",
            "gridwidth": 2,
            "linecolor": "white",
            "showbackground": true,
            "ticks": "",
            "zerolinecolor": "white"
           },
           "zaxis": {
            "backgroundcolor": "#E5ECF6",
            "gridcolor": "white",
            "gridwidth": 2,
            "linecolor": "white",
            "showbackground": true,
            "ticks": "",
            "zerolinecolor": "white"
           }
          },
          "shapedefaults": {
           "line": {
            "color": "#2a3f5f"
           }
          },
          "ternary": {
           "aaxis": {
            "gridcolor": "white",
            "linecolor": "white",
            "ticks": ""
           },
           "baxis": {
            "gridcolor": "white",
            "linecolor": "white",
            "ticks": ""
           },
           "bgcolor": "#E5ECF6",
           "caxis": {
            "gridcolor": "white",
            "linecolor": "white",
            "ticks": ""
           }
          },
          "title": {
           "x": 0.05
          },
          "xaxis": {
           "automargin": true,
           "gridcolor": "white",
           "linecolor": "white",
           "ticks": "",
           "title": {
            "standoff": 15
           },
           "zerolinecolor": "white",
           "zerolinewidth": 2
          },
          "yaxis": {
           "automargin": true,
           "gridcolor": "white",
           "linecolor": "white",
           "ticks": "",
           "title": {
            "standoff": 15
           },
           "zerolinecolor": "white",
           "zerolinewidth": 2
          }
         }
        }
       }
      }
     },
     "metadata": {},
     "output_type": "display_data"
    }
   ],
   "source": [
    "import plotly.graph_objects as go\n",
    "\n",
    "labels = list(zip(df.query(\"MenuItemName == '香辣孜然燜牛腩'\")['RawIngredientsEngSimple'].values[0], df.query(\"MenuItemName == '香辣孜然燜牛腩'\")['RawIngredientsChinese'].values[0]))\n",
    "values = [4500, 2500, 1053, 500]\n",
    "\n",
    "# Use `hole` to create a donut-like pie chart\n",
    "fig = go.Figure(data=[go.Pie(labels=labels, values=values, hole=.5)])\n",
    "fig.show()"
   ]
  },
  {
   "cell_type": "markdown",
   "metadata": {},
   "source": [
    "# Gauge indicator for carbon per 100g"
   ]
  },
  {
   "cell_type": "code",
   "execution_count": 69,
   "metadata": {},
   "outputs": [
    {
     "data": {
      "application/vnd.plotly.v1+json": {
       "config": {
        "plotlyServerURL": "https://plot.ly"
       },
       "data": [
        {
         "domain": {
          "x": [
           0,
           1
          ],
          "y": [
           0,
           1
          ]
         },
         "gauge": {
          "axis": {
           "range": [
            null,
            3
           ]
          },
          "bar": {
           "color": "lightgray"
          },
          "steps": [
           {
            "color": "lightgreen",
            "range": [
             0,
             0.4
            ]
           },
           {
            "color": "lightsalmon",
            "range": [
             0.4,
             1.4
            ]
           },
           {
            "color": "crimson",
            "range": [
             1.4,
             3
            ]
           }
          ],
          "threshold": {
           "line": {
            "color": "red",
            "width": 4
           },
           "thickness": 0.75,
           "value": 2.9
          }
         },
         "mode": "gauge+number",
         "title": {
          "text": "Speed"
         },
         "type": "indicator",
         "value": 1
        }
       ],
       "layout": {
        "template": {
         "data": {
          "bar": [
           {
            "error_x": {
             "color": "#2a3f5f"
            },
            "error_y": {
             "color": "#2a3f5f"
            },
            "marker": {
             "line": {
              "color": "#E5ECF6",
              "width": 0.5
             }
            },
            "type": "bar"
           }
          ],
          "barpolar": [
           {
            "marker": {
             "line": {
              "color": "#E5ECF6",
              "width": 0.5
             }
            },
            "type": "barpolar"
           }
          ],
          "carpet": [
           {
            "aaxis": {
             "endlinecolor": "#2a3f5f",
             "gridcolor": "white",
             "linecolor": "white",
             "minorgridcolor": "white",
             "startlinecolor": "#2a3f5f"
            },
            "baxis": {
             "endlinecolor": "#2a3f5f",
             "gridcolor": "white",
             "linecolor": "white",
             "minorgridcolor": "white",
             "startlinecolor": "#2a3f5f"
            },
            "type": "carpet"
           }
          ],
          "choropleth": [
           {
            "colorbar": {
             "outlinewidth": 0,
             "ticks": ""
            },
            "type": "choropleth"
           }
          ],
          "contour": [
           {
            "colorbar": {
             "outlinewidth": 0,
             "ticks": ""
            },
            "colorscale": [
             [
              0,
              "#0d0887"
             ],
             [
              0.1111111111111111,
              "#46039f"
             ],
             [
              0.2222222222222222,
              "#7201a8"
             ],
             [
              0.3333333333333333,
              "#9c179e"
             ],
             [
              0.4444444444444444,
              "#bd3786"
             ],
             [
              0.5555555555555556,
              "#d8576b"
             ],
             [
              0.6666666666666666,
              "#ed7953"
             ],
             [
              0.7777777777777778,
              "#fb9f3a"
             ],
             [
              0.8888888888888888,
              "#fdca26"
             ],
             [
              1,
              "#f0f921"
             ]
            ],
            "type": "contour"
           }
          ],
          "contourcarpet": [
           {
            "colorbar": {
             "outlinewidth": 0,
             "ticks": ""
            },
            "type": "contourcarpet"
           }
          ],
          "heatmap": [
           {
            "colorbar": {
             "outlinewidth": 0,
             "ticks": ""
            },
            "colorscale": [
             [
              0,
              "#0d0887"
             ],
             [
              0.1111111111111111,
              "#46039f"
             ],
             [
              0.2222222222222222,
              "#7201a8"
             ],
             [
              0.3333333333333333,
              "#9c179e"
             ],
             [
              0.4444444444444444,
              "#bd3786"
             ],
             [
              0.5555555555555556,
              "#d8576b"
             ],
             [
              0.6666666666666666,
              "#ed7953"
             ],
             [
              0.7777777777777778,
              "#fb9f3a"
             ],
             [
              0.8888888888888888,
              "#fdca26"
             ],
             [
              1,
              "#f0f921"
             ]
            ],
            "type": "heatmap"
           }
          ],
          "heatmapgl": [
           {
            "colorbar": {
             "outlinewidth": 0,
             "ticks": ""
            },
            "colorscale": [
             [
              0,
              "#0d0887"
             ],
             [
              0.1111111111111111,
              "#46039f"
             ],
             [
              0.2222222222222222,
              "#7201a8"
             ],
             [
              0.3333333333333333,
              "#9c179e"
             ],
             [
              0.4444444444444444,
              "#bd3786"
             ],
             [
              0.5555555555555556,
              "#d8576b"
             ],
             [
              0.6666666666666666,
              "#ed7953"
             ],
             [
              0.7777777777777778,
              "#fb9f3a"
             ],
             [
              0.8888888888888888,
              "#fdca26"
             ],
             [
              1,
              "#f0f921"
             ]
            ],
            "type": "heatmapgl"
           }
          ],
          "histogram": [
           {
            "marker": {
             "colorbar": {
              "outlinewidth": 0,
              "ticks": ""
             }
            },
            "type": "histogram"
           }
          ],
          "histogram2d": [
           {
            "colorbar": {
             "outlinewidth": 0,
             "ticks": ""
            },
            "colorscale": [
             [
              0,
              "#0d0887"
             ],
             [
              0.1111111111111111,
              "#46039f"
             ],
             [
              0.2222222222222222,
              "#7201a8"
             ],
             [
              0.3333333333333333,
              "#9c179e"
             ],
             [
              0.4444444444444444,
              "#bd3786"
             ],
             [
              0.5555555555555556,
              "#d8576b"
             ],
             [
              0.6666666666666666,
              "#ed7953"
             ],
             [
              0.7777777777777778,
              "#fb9f3a"
             ],
             [
              0.8888888888888888,
              "#fdca26"
             ],
             [
              1,
              "#f0f921"
             ]
            ],
            "type": "histogram2d"
           }
          ],
          "histogram2dcontour": [
           {
            "colorbar": {
             "outlinewidth": 0,
             "ticks": ""
            },
            "colorscale": [
             [
              0,
              "#0d0887"
             ],
             [
              0.1111111111111111,
              "#46039f"
             ],
             [
              0.2222222222222222,
              "#7201a8"
             ],
             [
              0.3333333333333333,
              "#9c179e"
             ],
             [
              0.4444444444444444,
              "#bd3786"
             ],
             [
              0.5555555555555556,
              "#d8576b"
             ],
             [
              0.6666666666666666,
              "#ed7953"
             ],
             [
              0.7777777777777778,
              "#fb9f3a"
             ],
             [
              0.8888888888888888,
              "#fdca26"
             ],
             [
              1,
              "#f0f921"
             ]
            ],
            "type": "histogram2dcontour"
           }
          ],
          "mesh3d": [
           {
            "colorbar": {
             "outlinewidth": 0,
             "ticks": ""
            },
            "type": "mesh3d"
           }
          ],
          "parcoords": [
           {
            "line": {
             "colorbar": {
              "outlinewidth": 0,
              "ticks": ""
             }
            },
            "type": "parcoords"
           }
          ],
          "pie": [
           {
            "automargin": true,
            "type": "pie"
           }
          ],
          "scatter": [
           {
            "marker": {
             "colorbar": {
              "outlinewidth": 0,
              "ticks": ""
             }
            },
            "type": "scatter"
           }
          ],
          "scatter3d": [
           {
            "line": {
             "colorbar": {
              "outlinewidth": 0,
              "ticks": ""
             }
            },
            "marker": {
             "colorbar": {
              "outlinewidth": 0,
              "ticks": ""
             }
            },
            "type": "scatter3d"
           }
          ],
          "scattercarpet": [
           {
            "marker": {
             "colorbar": {
              "outlinewidth": 0,
              "ticks": ""
             }
            },
            "type": "scattercarpet"
           }
          ],
          "scattergeo": [
           {
            "marker": {
             "colorbar": {
              "outlinewidth": 0,
              "ticks": ""
             }
            },
            "type": "scattergeo"
           }
          ],
          "scattergl": [
           {
            "marker": {
             "colorbar": {
              "outlinewidth": 0,
              "ticks": ""
             }
            },
            "type": "scattergl"
           }
          ],
          "scattermapbox": [
           {
            "marker": {
             "colorbar": {
              "outlinewidth": 0,
              "ticks": ""
             }
            },
            "type": "scattermapbox"
           }
          ],
          "scatterpolar": [
           {
            "marker": {
             "colorbar": {
              "outlinewidth": 0,
              "ticks": ""
             }
            },
            "type": "scatterpolar"
           }
          ],
          "scatterpolargl": [
           {
            "marker": {
             "colorbar": {
              "outlinewidth": 0,
              "ticks": ""
             }
            },
            "type": "scatterpolargl"
           }
          ],
          "scatterternary": [
           {
            "marker": {
             "colorbar": {
              "outlinewidth": 0,
              "ticks": ""
             }
            },
            "type": "scatterternary"
           }
          ],
          "surface": [
           {
            "colorbar": {
             "outlinewidth": 0,
             "ticks": ""
            },
            "colorscale": [
             [
              0,
              "#0d0887"
             ],
             [
              0.1111111111111111,
              "#46039f"
             ],
             [
              0.2222222222222222,
              "#7201a8"
             ],
             [
              0.3333333333333333,
              "#9c179e"
             ],
             [
              0.4444444444444444,
              "#bd3786"
             ],
             [
              0.5555555555555556,
              "#d8576b"
             ],
             [
              0.6666666666666666,
              "#ed7953"
             ],
             [
              0.7777777777777778,
              "#fb9f3a"
             ],
             [
              0.8888888888888888,
              "#fdca26"
             ],
             [
              1,
              "#f0f921"
             ]
            ],
            "type": "surface"
           }
          ],
          "table": [
           {
            "cells": {
             "fill": {
              "color": "#EBF0F8"
             },
             "line": {
              "color": "white"
             }
            },
            "header": {
             "fill": {
              "color": "#C8D4E3"
             },
             "line": {
              "color": "white"
             }
            },
            "type": "table"
           }
          ]
         },
         "layout": {
          "annotationdefaults": {
           "arrowcolor": "#2a3f5f",
           "arrowhead": 0,
           "arrowwidth": 1
          },
          "autotypenumbers": "strict",
          "coloraxis": {
           "colorbar": {
            "outlinewidth": 0,
            "ticks": ""
           }
          },
          "colorscale": {
           "diverging": [
            [
             0,
             "#8e0152"
            ],
            [
             0.1,
             "#c51b7d"
            ],
            [
             0.2,
             "#de77ae"
            ],
            [
             0.3,
             "#f1b6da"
            ],
            [
             0.4,
             "#fde0ef"
            ],
            [
             0.5,
             "#f7f7f7"
            ],
            [
             0.6,
             "#e6f5d0"
            ],
            [
             0.7,
             "#b8e186"
            ],
            [
             0.8,
             "#7fbc41"
            ],
            [
             0.9,
             "#4d9221"
            ],
            [
             1,
             "#276419"
            ]
           ],
           "sequential": [
            [
             0,
             "#0d0887"
            ],
            [
             0.1111111111111111,
             "#46039f"
            ],
            [
             0.2222222222222222,
             "#7201a8"
            ],
            [
             0.3333333333333333,
             "#9c179e"
            ],
            [
             0.4444444444444444,
             "#bd3786"
            ],
            [
             0.5555555555555556,
             "#d8576b"
            ],
            [
             0.6666666666666666,
             "#ed7953"
            ],
            [
             0.7777777777777778,
             "#fb9f3a"
            ],
            [
             0.8888888888888888,
             "#fdca26"
            ],
            [
             1,
             "#f0f921"
            ]
           ],
           "sequentialminus": [
            [
             0,
             "#0d0887"
            ],
            [
             0.1111111111111111,
             "#46039f"
            ],
            [
             0.2222222222222222,
             "#7201a8"
            ],
            [
             0.3333333333333333,
             "#9c179e"
            ],
            [
             0.4444444444444444,
             "#bd3786"
            ],
            [
             0.5555555555555556,
             "#d8576b"
            ],
            [
             0.6666666666666666,
             "#ed7953"
            ],
            [
             0.7777777777777778,
             "#fb9f3a"
            ],
            [
             0.8888888888888888,
             "#fdca26"
            ],
            [
             1,
             "#f0f921"
            ]
           ]
          },
          "colorway": [
           "#636efa",
           "#EF553B",
           "#00cc96",
           "#ab63fa",
           "#FFA15A",
           "#19d3f3",
           "#FF6692",
           "#B6E880",
           "#FF97FF",
           "#FECB52"
          ],
          "font": {
           "color": "#2a3f5f"
          },
          "geo": {
           "bgcolor": "white",
           "lakecolor": "white",
           "landcolor": "#E5ECF6",
           "showlakes": true,
           "showland": true,
           "subunitcolor": "white"
          },
          "hoverlabel": {
           "align": "left"
          },
          "hovermode": "closest",
          "mapbox": {
           "style": "light"
          },
          "paper_bgcolor": "white",
          "plot_bgcolor": "#E5ECF6",
          "polar": {
           "angularaxis": {
            "gridcolor": "white",
            "linecolor": "white",
            "ticks": ""
           },
           "bgcolor": "#E5ECF6",
           "radialaxis": {
            "gridcolor": "white",
            "linecolor": "white",
            "ticks": ""
           }
          },
          "scene": {
           "xaxis": {
            "backgroundcolor": "#E5ECF6",
            "gridcolor": "white",
            "gridwidth": 2,
            "linecolor": "white",
            "showbackground": true,
            "ticks": "",
            "zerolinecolor": "white"
           },
           "yaxis": {
            "backgroundcolor": "#E5ECF6",
            "gridcolor": "white",
            "gridwidth": 2,
            "linecolor": "white",
            "showbackground": true,
            "ticks": "",
            "zerolinecolor": "white"
           },
           "zaxis": {
            "backgroundcolor": "#E5ECF6",
            "gridcolor": "white",
            "gridwidth": 2,
            "linecolor": "white",
            "showbackground": true,
            "ticks": "",
            "zerolinecolor": "white"
           }
          },
          "shapedefaults": {
           "line": {
            "color": "#2a3f5f"
           }
          },
          "ternary": {
           "aaxis": {
            "gridcolor": "white",
            "linecolor": "white",
            "ticks": ""
           },
           "baxis": {
            "gridcolor": "white",
            "linecolor": "white",
            "ticks": ""
           },
           "bgcolor": "#E5ECF6",
           "caxis": {
            "gridcolor": "white",
            "linecolor": "white",
            "ticks": ""
           }
          },
          "title": {
           "x": 0.05
          },
          "xaxis": {
           "automargin": true,
           "gridcolor": "white",
           "linecolor": "white",
           "ticks": "",
           "title": {
            "standoff": 15
           },
           "zerolinecolor": "white",
           "zerolinewidth": 2
          },
          "yaxis": {
           "automargin": true,
           "gridcolor": "white",
           "linecolor": "white",
           "ticks": "",
           "title": {
            "standoff": 15
           },
           "zerolinecolor": "white",
           "zerolinewidth": 2
          }
         }
        }
       }
      }
     },
     "metadata": {},
     "output_type": "display_data"
    }
   ],
   "source": [
    "import plotly.graph_objects as go\n",
    "\n",
    "fig = go.Figure(go.Indicator(\n",
    "    domain = {'x': [0, 1], 'y': [0, 1]},\n",
    "    value = 1,\n",
    "    mode = \"gauge+number\", # gauge+number+delta\n",
    "    title = {'text': \"Speed\"},\n",
    "    #delta = {'reference': 1},\n",
    "    gauge = {'axis': {'range': [None, 3]},\n",
    "             'steps' : [\n",
    "                 {'range': [0, 0.4], 'color': \"lightgreen\"},\n",
    "                 {'range': [0.4, 1.4], 'color': \"lightsalmon\"},\n",
    "                 {'range': [1.4, 3], 'color': \"crimson\"},\n",
    "                 ],\n",
    "            'bar': {'color': \"lightgray\"},\n",
    "\n",
    "            'threshold' : {'line': {'color': \"red\", 'width': 4}, 'thickness': 0.75, 'value': 2.9}}))\n",
    "\n",
    "fig.show()"
   ]
  },
  {
   "cell_type": "code",
   "execution_count": 70,
   "metadata": {},
   "outputs": [
    {
     "data": {
      "text/plain": [
       "2.81104741819609"
      ]
     },
     "execution_count": 70,
     "metadata": {},
     "output_type": "execute_result"
    }
   ],
   "source": [
    "df['CarbonLabelMenuItemPer100g'].max()"
   ]
  },
  {
   "cell_type": "code",
   "execution_count": 71,
   "metadata": {},
   "outputs": [
    {
     "data": {
      "text/plain": [
       "0      2855.640286\n",
       "1      3363.173067\n",
       "2      3888.322630\n",
       "3      2032.351482\n",
       "4      2856.168497\n",
       "          ...     \n",
       "162     318.259510\n",
       "163     270.045994\n",
       "164     595.738782\n",
       "165    1512.790783\n",
       "166     528.011813\n",
       "Name: CarbonLabelMenuItem, Length: 167, dtype: float64"
      ]
     },
     "execution_count": 71,
     "metadata": {},
     "output_type": "execute_result"
    }
   ],
   "source": [
    "df['CarbonLabelMenuItem']"
   ]
  },
  {
   "cell_type": "code",
   "execution_count": 87,
   "metadata": {},
   "outputs": [
    {
     "data": {
      "text/plain": [
       "array([0, 1, 2, 3], dtype=int64)"
      ]
     },
     "execution_count": 87,
     "metadata": {},
     "output_type": "execute_result"
    }
   ],
   "source": [
    "import numpy as np\n",
    "descending_ix = np.array(values).argsort()[::-1] # get index of values in descending order (largest to smallest)"
   ]
  },
  {
   "cell_type": "markdown",
   "metadata": {},
   "source": [
    "# Donut chart for nutrition"
   ]
  },
  {
   "cell_type": "code",
   "execution_count": 10,
   "metadata": {},
   "outputs": [
    {
     "data": {
      "text/plain": [
       "0      153.365452\n",
       "1       94.764152\n",
       "2      289.203049\n",
       "3      228.007255\n",
       "4      161.483386\n",
       "          ...    \n",
       "162     55.188976\n",
       "163    134.980983\n",
       "164    135.401515\n",
       "165    127.029480\n",
       "166     67.978628\n",
       "Name: NutritionLabelMenuItemPer100g.Calories, Length: 167, dtype: float64"
      ]
     },
     "execution_count": 10,
     "metadata": {},
     "output_type": "execute_result"
    }
   ],
   "source": [
    "df['NutritionLabelMenuItemPer100g.Calories'], df['NutritionLabelMenuItemPer100g.Carbohydrate'], df['NutritionLabelMenuItemPer100g.Fat'], df['NutritionLabelMenuItemPer100g.Protein']\n"
   ]
  },
  {
   "cell_type": "code",
   "execution_count": 11,
   "metadata": {},
   "outputs": [],
   "source": [
    "df_rdi = pd.read_csv('./data/nutrition_rdi.csv')"
   ]
  },
  {
   "cell_type": "code",
   "execution_count": 16,
   "metadata": {},
   "outputs": [
    {
     "data": {
      "text/plain": [
       "(2000,\n",
       " 0    275\n",
       " Name: Carbohydrt_(g), dtype: int64,\n",
       " 0    78\n",
       " Name: Lipid_Tot_(g), dtype: int64,\n",
       " 0    50\n",
       " Name: Protein_(g), dtype: int64)"
      ]
     },
     "execution_count": 16,
     "metadata": {},
     "output_type": "execute_result"
    }
   ],
   "source": [
    "df_rdi['Energ_Kcal'].values[0], df_rdi['Carbohydrt_(g)'],df_rdi['Lipid_Tot_(g)'], df_rdi['Protein_(g)']"
   ]
  },
  {
   "cell_type": "code",
   "execution_count": null,
   "metadata": {},
   "outputs": [],
   "source": []
  }
 ],
 "metadata": {
  "interpreter": {
   "hash": "095f2a7cf3ea2dcf1c483d5990ac48b9f223b8fc07e6a3ab32030701f64fbac2"
  },
  "kernelspec": {
   "display_name": "Python 3.7.6 ('base')",
   "language": "python",
   "name": "python3"
  },
  "language_info": {
   "codemirror_mode": {
    "name": "ipython",
    "version": 3
   },
   "file_extension": ".py",
   "mimetype": "text/x-python",
   "name": "python",
   "nbconvert_exporter": "python",
   "pygments_lexer": "ipython3",
   "version": "3.7.6"
  },
  "orig_nbformat": 4
 },
 "nbformat": 4,
 "nbformat_minor": 2
}
